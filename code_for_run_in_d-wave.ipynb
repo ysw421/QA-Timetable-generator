{
 "cells": [
  {
   "cell_type": "markdown",
   "metadata": {},
   "source": [
    "# D-wave system서 연산을 위한 코드\n",
    "\n",
    "목차\n",
    "1. [모듈 불러오기](#1-모듈-불러오기)\n",
    "2. [데이터 불러오기](#2-데이터-불러오기)\n",
    "3. [Run](#3-run)\n",
    "4. [최솟값 출력](#4-최솟값-출력)\n"
   ]
  },
  {
   "cell_type": "markdown",
   "metadata": {},
   "source": [
    "#### 1. 모듈 불러오기"
   ]
  },
  {
   "cell_type": "code",
   "execution_count": null,
   "metadata": {},
   "outputs": [],
   "source": [
    "import dimod\n",
    "import pickle\n",
    "import time\n",
    "from dwave.system import DWaveSampler, EmbeddingComposite"
   ]
  },
  {
   "cell_type": "markdown",
   "metadata": {},
   "source": [
    "#### 2. 데이터 불러오기"
   ]
  },
  {
   "cell_type": "code",
   "execution_count": null,
   "metadata": {},
   "outputs": [],
   "source": [
    "with open(\"data.pickle\",\"rb\") as fr:\n",
    "    data = pickle.load(fr)\n",
    "print(data)"
   ]
  },
  {
   "cell_type": "markdown",
   "metadata": {},
   "source": [
    "#### 3. Run"
   ]
  },
  {
   "cell_type": "code",
   "execution_count": null,
   "metadata": {},
   "outputs": [],
   "source": [
    "strat_time = time.time()\n",
    "bqm = dimod.BQM({}, data, 0.0, dimod.BINARY)\n",
    "sampler = EmbeddingComposite(DWaveSampler(solver={'qpu': True}))\n",
    "sampleset = sampler.sample(bqm, num_reads=1000)\n",
    "print(sampleset)\n",
    "print(\"time: \", time.time() - strat_time)"
   ]
  },
  {
   "cell_type": "markdown",
   "metadata": {},
   "source": [
    "#### 4. 최솟값 출력"
   ]
  },
  {
   "cell_type": "code",
   "execution_count": null,
   "metadata": {},
   "outputs": [],
   "source": [
    "print(sampleset.first.sample)"
   ]
  }
 ],
 "metadata": {
  "kernelspec": {
   "display_name": "Python 3.9.13 64-bit (microsoft store)",
   "language": "python",
   "name": "python3"
  },
  "language_info": {
   "name": "python",
   "version": "3.9.13"
  },
  "orig_nbformat": 4,
  "vscode": {
   "interpreter": {
    "hash": "9b98a87dd607c3a7d80d70b3bdd894d37a0ef4e022495662564cc7510ac502c0"
   }
  }
 },
 "nbformat": 4,
 "nbformat_minor": 2
}
